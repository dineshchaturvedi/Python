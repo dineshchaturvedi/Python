{
 "cells": [
  {
   "cell_type": "code",
   "execution_count": null,
   "id": "762c50df",
   "metadata": {},
   "outputs": [
    {
     "name": "stdout",
     "output_type": "stream",
     "text": [
      "[1 2 3 4 5]\n",
      "<class 'numpy.ndarray'>\n",
      "(5,)\n"
     ]
    }
   ],
   "source": [
    "import numpy as np\n",
    "\n",
    "## Working with Arrays using numpy\n",
    "arr1=np.array([1,2,3,4,5])\n",
    "print(arr1)\n",
    "print(type(arr1))\n",
    "print(arr1.shape)\n",
    "      "
   ]
  },
  {
   "cell_type": "code",
   "execution_count": null,
   "id": "f8b12037",
   "metadata": {},
   "outputs": [
    {
     "name": "stdout",
     "output_type": "stream",
     "text": [
      "[1 2 3 4 5]\n"
     ]
    }
   ],
   "source": [
    "## Using Reshape funciton to convert single dimension array to two dimnenson\n",
    "## you cannot give lenght of second dimension, in this case 5 below 5\n",
    "## Because array alreay has 5 elements in it\n",
    "\n",
    "arr2=np.array([1,2,3,4,5])\n",
    "arr2.reshape(1,5)"
   ]
  },
  {
   "cell_type": "code",
   "execution_count": null,
   "id": "654b0a28",
   "metadata": {},
   "outputs": [
    {
     "name": "stdout",
     "output_type": "stream",
     "text": [
      "[[1 2 3 4 5]\n",
      " [2 3 4 5 6]]\n",
      "(2, 5)\n"
     ]
    }
   ],
   "source": [
    "## Using standard method to create two dimensional array\n",
    "\n",
    "arr2=np.array([[1,2,3,4,5],[2,3,4,5,6]])\n",
    "print(arr2 )\n",
    "print(arr2.shape)"
   ]
  },
  {
   "cell_type": "code",
   "execution_count": null,
   "id": "ff83ca72",
   "metadata": {},
   "outputs": [
    {
     "name": "stdout",
     "output_type": "stream",
     "text": [
      "Addition  [ 3  6 11  6  6]\n",
      "Subtraction  [-1 -2 -5  2  4]\n",
      "Mutiplication  [ 2  8 24  8  5]\n",
      "Division  [0.5   0.5   0.375 2.    5.   ]\n"
     ]
    }
   ],
   "source": [
    "## Numpy Vectorized operations\n",
    "arr1=np.array([1,2,3,4,5])\n",
    "arr2 =np.array([2,4,8,2,1])\n",
    "\n",
    "##Element Wise Addition\n",
    "print(\"Addition \", arr1+arr2 )\n",
    "\n",
    "##Element Wise Subtraction\n",
    "print(\"Subtraction \", arr1-arr2 )\n",
    "\n",
    "##Element Wise Mutiplication\n",
    "print(\"Mutiplication \", arr1*arr2 )\n",
    "\n",
    "##Element Wise Division\n",
    "print(\"Division \", arr1/arr2)\n"
   ]
  },
  {
   "cell_type": "code",
   "execution_count": 12,
   "id": "21265f54",
   "metadata": {},
   "outputs": [
    {
     "name": "stdout",
     "output_type": "stream",
     "text": [
      "Square Root  [1.         1.41421356 1.73205081 2.         2.23606798]\n",
      "Exponential  [  2.71828183   7.3890561   20.08553692  54.59815003 148.4131591 ]\n",
      "Sin  [ 0.84147098  0.90929743  0.14112001 -0.7568025  -0.95892427]\n",
      "log  [0.         0.69314718 1.09861229 1.38629436 1.60943791]\n"
     ]
    }
   ],
   "source": [
    "## Numpy Universal Functions\n",
    "arr1=np.array([1,2,3,4,5])\n",
    "\n",
    "##Element Wise Square Root\n",
    "print(\"Square Root \", np.sqrt(arr1))\n",
    "\n",
    "##Element Wise Exponential\n",
    "print(\"Exponential \", np.exp(arr1))\n",
    "\n",
    "##Element Wise Sin\n",
    "print(\"Sin \", np.sin(arr1))\n",
    "\n",
    "##Element Wise Log\n",
    "print(\"log \", np.log(arr1))\n"
   ]
  },
  {
   "cell_type": "code",
   "execution_count": null,
   "id": "7f38e20f",
   "metadata": {},
   "outputs": [
    {
     "data": {
      "text/plain": [
       "array([[1, 2],\n",
       "       [2, 3],\n",
       "       [9, 2]])"
      ]
     },
     "execution_count": 26,
     "metadata": {},
     "output_type": "execute_result"
    }
   ],
   "source": [
    "## Array Slicing and Indexing\n",
    "arr3=np.array([[1,2,3,4,5],[2,3,4,5,6],[9,2,8,2,3]])\n",
    "#print('Array: \\n', arr3)\n",
    "\n",
    "#arr3[1:,3:]\n",
    "arr3[0:3,0:2] ## 0:3  first entry on left side indicates which rows to be picked up 0:2 is for columns\n",
    "\n",
    "\n"
   ]
  },
  {
   "cell_type": "code",
   "execution_count": null,
   "id": "bdbfdab6",
   "metadata": {},
   "outputs": [],
   "source": [
    "## Normalization\n"
   ]
  }
 ],
 "metadata": {
  "kernelspec": {
   "display_name": "Python 3",
   "language": "python",
   "name": "python3"
  },
  "language_info": {
   "codemirror_mode": {
    "name": "ipython",
    "version": 3
   },
   "file_extension": ".py",
   "mimetype": "text/x-python",
   "name": "python",
   "nbconvert_exporter": "python",
   "pygments_lexer": "ipython3",
   "version": "3.12.0"
  }
 },
 "nbformat": 4,
 "nbformat_minor": 5
}
