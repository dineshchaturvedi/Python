{
 "cells": [
  {
   "cell_type": "code",
   "execution_count": 1,
   "id": "a68bbbbf",
   "metadata": {},
   "outputs": [
    {
     "name": "stdout",
     "output_type": "stream",
     "text": [
      "Series \n",
      " 0    1\n",
      "1    4\n",
      "2    8\n",
      "3    9\n",
      "4    3\n",
      "dtype: int64\n"
     ]
    }
   ],
   "source": [
    "# Panda Series, it is a one diemnsional arrary type object that can hold mutiple data types\n",
    "import pandas as pd\n",
    "data =[1,4,8,9,3]\n",
    "series=pd.Series(data)\n",
    "print(\"Series \\n\" ,  series)\n"
   ]
  },
  {
   "cell_type": "code",
   "execution_count": null,
   "id": "3b7cbeb5",
   "metadata": {},
   "outputs": [
    {
     "name": "stdout",
     "output_type": "stream",
     "text": [
      "a    1\n",
      "b    2\n",
      "c    3\n",
      "d    4\n",
      "dtype: int64\n"
     ]
    }
   ],
   "source": [
    "# Create a Series from Dictionary Elelments\n",
    "\n",
    "data={'a':1,'b':2,'c':3,'d':4}\n",
    "type(data)\n",
    "series_dict =pd.Series(data)\n",
    "print(series_dict)  ## As you can see from the output, the index is picked from dictionary\n"
   ]
  },
  {
   "cell_type": "code",
   "execution_count": null,
   "id": "04abfcec",
   "metadata": {},
   "outputs": [],
   "source": [
    "#Dataframe\n",
    "#Create dataframe from a dictionary of list\n",
    "\n",
    "data={\n",
    "    'Name':{'Dinesh','Nimmi','Anika','Arnav'},\n",
    "    'Age':{51,49,22,17},\n",
    "    'Sex':{\"M\",\"F\",\"F\",\"M\"}\n",
    "}"
   ]
  }
 ],
 "metadata": {
  "kernelspec": {
   "display_name": "Python 3",
   "language": "python",
   "name": "python3"
  },
  "language_info": {
   "codemirror_mode": {
    "name": "ipython",
    "version": 3
   },
   "file_extension": ".py",
   "mimetype": "text/x-python",
   "name": "python",
   "nbconvert_exporter": "python",
   "pygments_lexer": "ipython3",
   "version": "3.12.0"
  }
 },
 "nbformat": 4,
 "nbformat_minor": 5
}
