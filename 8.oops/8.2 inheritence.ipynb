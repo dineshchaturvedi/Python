{
 "cells": [
  {
   "cell_type": "code",
   "execution_count": 3,
   "id": "f12ce266",
   "metadata": {},
   "outputs": [],
   "source": [
    "## Inheritence\n",
    "class Car:\n",
    "    def __init__(self,windows, doors,enginetype):\n",
    "        self.windows = windows\n",
    "        self.doors = doors\n",
    "        self.enginetype = enginetype\n",
    "\n",
    "    def drive(self):\n",
    "        print(f\"The person will drive {self.enginetype} car\")\n"
   ]
  },
  {
   "cell_type": "code",
   "execution_count": 4,
   "id": "670d55c1",
   "metadata": {},
   "outputs": [
    {
     "name": "stdout",
     "output_type": "stream",
     "text": [
      "The person will drive Petrol car\n"
     ]
    }
   ],
   "source": [
    "car1 = Car(4,5,\"Petrol\")\n",
    "car1.drive()"
   ]
  },
  {
   "cell_type": "code",
   "execution_count": 11,
   "id": "d6d9fab3",
   "metadata": {},
   "outputs": [],
   "source": [
    "class Tesla(Car):\n",
    "    def __init__(self, windows, doors, enginetype,is_selfdrive):\n",
    "        super().__init__(windows, doors, enginetype)\n",
    "        self.is_selfdrive = is_selfdrive\n",
    "    def selfdriving(self):\n",
    "        print(f\"This Tesla supports self drive: {self.is_selfdrive}\")\n"
   ]
  },
  {
   "cell_type": "code",
   "execution_count": null,
   "id": "5d7589f4",
   "metadata": {},
   "outputs": [
    {
     "name": "stdout",
     "output_type": "stream",
     "text": [
      "The person will drive Electric car\n",
      "This Tesla supports self drive: True\n"
     ]
    }
   ],
   "source": [
    "tesla1 = Tesla(4,5,\"Electric\",True)\n",
    "tesla1.drive()\n",
    "tesla1.selfdriving()"
   ]
  }
 ],
 "metadata": {
  "kernelspec": {
   "display_name": "Python 3",
   "language": "python",
   "name": "python3"
  },
  "language_info": {
   "codemirror_mode": {
    "name": "ipython",
    "version": 3
   },
   "file_extension": ".py",
   "mimetype": "text/x-python",
   "name": "python",
   "nbconvert_exporter": "python",
   "pygments_lexer": "ipython3",
   "version": "3.12.0"
  }
 },
 "nbformat": 4,
 "nbformat_minor": 5
}
