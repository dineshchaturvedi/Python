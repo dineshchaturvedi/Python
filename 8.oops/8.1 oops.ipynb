{
 "cells": [
  {
   "cell_type": "code",
   "execution_count": 1,
   "id": "0cfaef9f",
   "metadata": {},
   "outputs": [
    {
     "name": "stdout",
     "output_type": "stream",
     "text": [
      "Bambi\n",
      "5\n"
     ]
    }
   ],
   "source": [
    "class Dog:\n",
    "    def __init__(self,name, age):\n",
    "        self.name = name\n",
    "        self.age = age\n",
    "\n",
    "## create objects\n",
    "\n",
    "dog1= Dog(\"Bambi\",5)\n",
    "print(dog1.name)\n",
    "print(dog1.age)\n"
   ]
  },
  {
   "cell_type": "code",
   "execution_count": null,
   "id": "a757d8d2",
   "metadata": {},
   "outputs": [
    {
     "name": "stdout",
     "output_type": "stream",
     "text": [
      "Bambi\n",
      "5\n"
     ]
    }
   ],
   "source": [
    "### expalining why you can name first argument as anything and not just se\n",
    "class Dog:\n",
    "    def __init__(duffer,name, age):\n",
    "        duffer.name = name\n",
    "        duffer.age = age\n",
    "\n",
    "## create objects\n",
    "\n",
    "dog1= Dog(\"Bambi\",5)\n",
    "print(dog1.name)\n",
    "print(dog1.age)\n"
   ]
  },
  {
   "cell_type": "code",
   "execution_count": 4,
   "id": "cd562264",
   "metadata": {},
   "outputs": [
    {
     "name": "stdout",
     "output_type": "stream",
     "text": [
      "Bambi\n",
      "5\n",
      "Bambi says woof\n"
     ]
    }
   ],
   "source": [
    "### expalining why you can name first argument as anything and not just se\n",
    "class Dog:\n",
    "    def __init__(self,name, age):\n",
    "        self.name = name\n",
    "        self.age = age\n",
    "    def bark(self):\n",
    "        print(f'{self.name} says woof')\n",
    "\n",
    "## create objects\n",
    "\n",
    "dog1= Dog(\"Bambi\",5)\n",
    "print(dog1.name)\n",
    "print(dog1.age)\n",
    "dog1.bark()"
   ]
  }
 ],
 "metadata": {
  "kernelspec": {
   "display_name": "Python 3",
   "language": "python",
   "name": "python3"
  },
  "language_info": {
   "codemirror_mode": {
    "name": "ipython",
    "version": 3
   },
   "file_extension": ".py",
   "mimetype": "text/x-python",
   "name": "python",
   "nbconvert_exporter": "python",
   "pygments_lexer": "ipython3",
   "version": "3.12.0"
  }
 },
 "nbformat": 4,
 "nbformat_minor": 5
}
