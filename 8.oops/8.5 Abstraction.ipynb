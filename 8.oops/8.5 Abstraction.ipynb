{
 "cells": [
  {
   "cell_type": "code",
   "execution_count": 5,
   "id": "2dfc2bfa",
   "metadata": {},
   "outputs": [
    {
     "name": "stdout",
     "output_type": "stream",
     "text": [
      "Car Engine Started\n"
     ]
    }
   ],
   "source": [
    "from abc import ABC,abstractmethod \n",
    "\n",
    "## Abstract Class\n",
    "class Vehicle(ABC):\n",
    "    def drive(self):\n",
    "        print(\"This vehicle is now driving\")\n",
    "    \n",
    "    @abstractmethod\n",
    "    def start_engine(self):\n",
    "        pass\n",
    "\n",
    "## Derived Class 1\n",
    "class Car(Vehicle):\n",
    "    def start_engine(self):\n",
    "        print(\"Car Engine Started\")\n",
    "\n",
    "def operate_vehicle(vehicle):\n",
    "    vehicle.start_engine()\n",
    "\n",
    "car1 = Car()\n",
    "operate_vehicle(car1)"
   ]
  }
 ],
 "metadata": {
  "kernelspec": {
   "display_name": "Python 3",
   "language": "python",
   "name": "python3"
  },
  "language_info": {
   "codemirror_mode": {
    "name": "ipython",
    "version": 3
   },
   "file_extension": ".py",
   "mimetype": "text/x-python",
   "name": "python",
   "nbconvert_exporter": "python",
   "pygments_lexer": "ipython3",
   "version": "3.12.0"
  }
 },
 "nbformat": 4,
 "nbformat_minor": 5
}
