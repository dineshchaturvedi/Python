{
 "cells": [
  {
   "cell_type": "code",
   "execution_count": 5,
   "id": "3b7ace3f",
   "metadata": {},
   "outputs": [
    {
     "data": {
      "text/plain": [
       "'Dinesh'"
      ]
     },
     "execution_count": 5,
     "metadata": {},
     "output_type": "execute_result"
    }
   ],
   "source": [
    "## Encapsulation with Getter and Setter Methods\n",
    "\n",
    "class Person():\n",
    "    def __init__(self,name,age):\n",
    "        self.name=name ## public variable\n",
    "        self.age=age\n",
    "\n",
    "def get_name(person):\n",
    "    return person.name\n",
    "\n",
    "person = Person(\"Dinesh\",51)\n",
    "\n",
    "get_name(person)\n",
    "    "
   ]
  },
  {
   "cell_type": "code",
   "execution_count": 12,
   "id": "f58b5ae0",
   "metadata": {},
   "outputs": [
    {
     "name": "stdout",
     "output_type": "stream",
     "text": [
      "Dinesh\n",
      "Arnav\n"
     ]
    }
   ],
   "source": [
    "## Encapsulation with Getter and Setter Methods\n",
    "\n",
    "class Person():\n",
    "    def __init__(self,name,age,gender):\n",
    "        self.__name=name ## public variable\n",
    "        self.__age=age\n",
    "        self.gender = gender\n",
    "    # Getter Method\n",
    "    def get_name(person):\n",
    "     return person.__name\n",
    "\n",
    "    # Setter Method\n",
    "    def set_name(self,name):\n",
    "        self.__name=name\n",
    "\n",
    "person = Person(\"Dinesh\",51,\"Male\")\n",
    "print(person.get_name())\n",
    "person.set_name(\"Arnav\")\n",
    "print(person.get_name())\n",
    "#dir(person) \n",
    "    "
   ]
  }
 ],
 "metadata": {
  "kernelspec": {
   "display_name": "Python 3",
   "language": "python",
   "name": "python3"
  },
  "language_info": {
   "codemirror_mode": {
    "name": "ipython",
    "version": 3
   },
   "file_extension": ".py",
   "mimetype": "text/x-python",
   "name": "python",
   "nbconvert_exporter": "python",
   "pygments_lexer": "ipython3",
   "version": "3.12.0"
  }
 },
 "nbformat": 4,
 "nbformat_minor": 5
}
