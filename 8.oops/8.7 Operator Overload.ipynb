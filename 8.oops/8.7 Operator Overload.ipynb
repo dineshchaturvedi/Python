{
 "cells": [
  {
   "cell_type": "code",
   "execution_count": 4,
   "id": "a1a0cddf",
   "metadata": {},
   "outputs": [
    {
     "name": "stdout",
     "output_type": "stream",
     "text": [
      "it came here\n"
     ]
    },
    {
     "data": {
      "text/plain": [
       "Vector( 6 , 9 )"
      ]
     },
     "execution_count": 4,
     "metadata": {},
     "output_type": "execute_result"
    }
   ],
   "source": [
    "class Vector():\n",
    "    def __init__(self,x,y):\n",
    "        self.x=x\n",
    "        self.y=y\n",
    "\n",
    "    def __add__(self,other):\n",
    "        print('it came here')\n",
    "        return Vector(self.x + other.x , self.y + other.y)\n",
    "    \n",
    "    def __repr__(self):\n",
    "        return f\"Vector( {self.x} , {self.y} )\"\n",
    "    \n",
    "v1 =Vector(2,3)\n",
    "v2 =Vector(4,6)\n",
    "\n",
    "v1+v2"
   ]
  }
 ],
 "metadata": {
  "kernelspec": {
   "display_name": "Python 3",
   "language": "python",
   "name": "python3"
  },
  "language_info": {
   "codemirror_mode": {
    "name": "ipython",
    "version": 3
   },
   "file_extension": ".py",
   "mimetype": "text/x-python",
   "name": "python",
   "nbconvert_exporter": "python",
   "pygments_lexer": "ipython3",
   "version": "3.12.0"
  }
 },
 "nbformat": 4,
 "nbformat_minor": 5
}
