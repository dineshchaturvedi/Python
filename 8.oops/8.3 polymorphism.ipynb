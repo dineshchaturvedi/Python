{
 "cells": [
  {
   "cell_type": "code",
   "execution_count": 1,
   "id": "ee76e77a",
   "metadata": {},
   "outputs": [
    {
     "name": "stdout",
     "output_type": "stream",
     "text": [
      "Meow Meow\n",
      "Woof Woof\n",
      "Woof Woof\n"
     ]
    }
   ],
   "source": [
    "## Method overriding\n",
    "## Base Class\n",
    "class Animal():\n",
    "    def __init__(self):\n",
    "        pass\n",
    "    def speak(self):\n",
    "        print(\"Return the language of the Animal\")\n",
    "## Dervied Class 1\n",
    "class Dog(Animal):\n",
    "    def __init__(self):\n",
    "        pass\n",
    "    def speak(self):\n",
    "        print(\"Woof Woof\")\n",
    "## Dervied Class 2\n",
    "class Cat(Animal):\n",
    "    def __init__(self):\n",
    "        pass\n",
    "    def speak(self):\n",
    "        print(\"Meow Meow\")\n",
    "\n",
    "def animal_speak(animal):\n",
    "    animal.speak()\n",
    "\n",
    "cat1 = Cat()\n",
    "dog1 = Dog()\n",
    "cat1.speak()\n",
    "dog1.speak()\n",
    "\n",
    "animal_speak(dog1)\n",
    "\n",
    "\n"
   ]
  },
  {
   "cell_type": "code",
   "execution_count": 11,
   "id": "99e553fb",
   "metadata": {},
   "outputs": [
    {
     "name": "stdout",
     "output_type": "stream",
     "text": [
      "6\n",
      "12.566370614359172\n"
     ]
    }
   ],
   "source": [
    "import math\n",
    "## Polymorphism with function and method\n",
    "## Base Class\n",
    "class Shape():\n",
    "    def area(self):\n",
    "        return \"Return area of the shape\"\n",
    "## Derived Class 1\n",
    "class Rectangle(Shape):\n",
    "    def __init__(self,width,height):\n",
    "        self.height=height\n",
    "        self.width = width\n",
    "\n",
    "    def area(self):\n",
    "        return self.height*self.width\n",
    "    \n",
    "\n",
    "## Derived Class 2\n",
    "class Circle(Shape):\n",
    "    def __init__(self,radius):\n",
    "        self.radius=radius\n",
    "\n",
    "    def area(self):\n",
    "        return math.pi*self.radius**2\n",
    "\n",
    "rect1 = Rectangle(2,3)\n",
    "print(rect1.area())\n",
    "circle1 = Circle(2)\n",
    "print(circle1.area())"
   ]
  },
  {
   "cell_type": "code",
   "execution_count": 13,
   "id": "c982b8ed",
   "metadata": {},
   "outputs": [
    {
     "name": "stdout",
     "output_type": "stream",
     "text": [
      "Car Engine Started\n",
      "Bike Engine Started\n"
     ]
    }
   ],
   "source": [
    "## Polymorphism with Abstract Base Class\n",
    "from abc import ABC,abstractmethod \n",
    "\n",
    "## Abstract Class\n",
    "class Vehicle(ABC):\n",
    "    @abstractmethod\n",
    "    def start_engine(self):\n",
    "        pass\n",
    "\n",
    "## Derived Class 1\n",
    "class Car(Vehicle):\n",
    "    def start_engine(self):\n",
    "        return \"Car Engine Started\"\n",
    "## Derived Class 2\n",
    "class Bike(Vehicle):\n",
    "    def start_engine(self):\n",
    "        return \"Bike Engine Started\"\n",
    "    \n",
    "car1 = Car()\n",
    "bike1 = Bike()\n",
    "\n",
    "print(car1.start_engine())\n",
    "print(bike1.start_engine())\n",
    "\n"
   ]
  }
 ],
 "metadata": {
  "kernelspec": {
   "display_name": "Python 3",
   "language": "python",
   "name": "python3"
  },
  "language_info": {
   "codemirror_mode": {
    "name": "ipython",
    "version": 3
   },
   "file_extension": ".py",
   "mimetype": "text/x-python",
   "name": "python",
   "nbconvert_exporter": "python",
   "pygments_lexer": "ipython3",
   "version": "3.12.0"
  }
 },
 "nbformat": 4,
 "nbformat_minor": 5
}
