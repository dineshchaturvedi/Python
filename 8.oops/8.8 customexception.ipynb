{
 "cells": [
  {
   "cell_type": "code",
   "execution_count": 4,
   "id": "aa735db1",
   "metadata": {},
   "outputs": [],
   "source": [
    "class Error(Exception):\n",
    "    pass\n",
    "\n",
    "class dobException(Error):\n",
    "    pass\n"
   ]
  },
  {
   "cell_type": "code",
   "execution_count": 5,
   "id": "b59bc2b6",
   "metadata": {},
   "outputs": [
    {
     "name": "stdout",
     "output_type": "stream",
     "text": [
      "Your age should be greater than 20 and less than 30\n"
     ]
    }
   ],
   "source": [
    "year=int(input(\"Please enter your year of birth\"))\n",
    "age = 2025 - year\n",
    "try:\n",
    "    if age>20 and age <30:\n",
    "        print(\"You are qualified\")\n",
    "    else:\n",
    "        raise dobException\n",
    "except dobException as dobEx:\n",
    "    print (\"Your age should be greater than 20 and less than 30\")\n"
   ]
  }
 ],
 "metadata": {
  "kernelspec": {
   "display_name": "Python 3",
   "language": "python",
   "name": "python3"
  },
  "language_info": {
   "codemirror_mode": {
    "name": "ipython",
    "version": 3
   },
   "file_extension": ".py",
   "mimetype": "text/x-python",
   "name": "python",
   "nbconvert_exporter": "python",
   "pygments_lexer": "ipython3",
   "version": "3.12.0"
  }
 },
 "nbformat": 4,
 "nbformat_minor": 5
}
