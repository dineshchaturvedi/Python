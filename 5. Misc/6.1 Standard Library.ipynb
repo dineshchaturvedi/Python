{
 "cells": [
  {
   "cell_type": "code",
   "execution_count": null,
   "id": "78906730",
   "metadata": {},
   "outputs": [
    {
     "name": "stdout",
     "output_type": "stream",
     "text": [
      "['name', 'age']\n",
      "['Dinesh', '51']\n"
     ]
    }
   ],
   "source": [
    "## create a csv file and write few lines\n",
    "import csv\n",
    "\n",
    "with open('example.csv',mode='w',newline='' ) as file: \n",
    "    writer = csv.writer(file)\n",
    "    writer.writerow(['name','age'])\n",
    "    writer.writerow(['Dinesh','51'])\n"
   ]
  },
  {
   "cell_type": "code",
   "execution_count": null,
   "id": "2cf51068",
   "metadata": {},
   "outputs": [
    {
     "name": "stdout",
     "output_type": "stream",
     "text": [
      "['name', 'age']\n",
      "['Dinesh', '51']\n"
     ]
    }
   ],
   "source": [
    "with open('example.csv',mode='r') as file: \n",
    "    reader = csv.reader(file)\n",
    "    for row in reader:\n",
    "        print(row)"
   ]
  },
  {
   "cell_type": "code",
   "execution_count": 5,
   "id": "d7084ec2",
   "metadata": {},
   "outputs": [
    {
     "name": "stdout",
     "output_type": "stream",
     "text": [
      "2025-06-12 18:40:08.557540\n",
      "2025-06-11 18:40:08.557540\n"
     ]
    }
   ],
   "source": [
    "from datetime import datetime,timedelta\n",
    "\n",
    "now = datetime.now()\n",
    "print (now)\n",
    "\n",
    "yesterday = now-timedelta(days=1)\n",
    "\n",
    "print(yesterday)"
   ]
  }
 ],
 "metadata": {
  "kernelspec": {
   "display_name": "Python 3",
   "language": "python",
   "name": "python3"
  },
  "language_info": {
   "codemirror_mode": {
    "name": "ipython",
    "version": 3
   },
   "file_extension": ".py",
   "mimetype": "text/x-python",
   "name": "python",
   "nbconvert_exporter": "python",
   "pygments_lexer": "ipython3",
   "version": "3.12.0"
  }
 },
 "nbformat": 4,
 "nbformat_minor": 5
}
