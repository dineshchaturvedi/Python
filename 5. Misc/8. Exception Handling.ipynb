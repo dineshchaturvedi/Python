{
 "cells": [
  {
   "cell_type": "code",
   "execution_count": 3,
   "id": "3bc976d9",
   "metadata": {},
   "outputs": [
    {
     "name": "stdout",
     "output_type": "stream",
     "text": [
      "We got an error name 'b' is not defined\n"
     ]
    }
   ],
   "source": [
    "## Exception handling\n",
    "try:\n",
    "    a=b\n",
    "except NameError as ex:\n",
    "    print(f\"We got an error {ex}\")"
   ]
  },
  {
   "cell_type": "code",
   "execution_count": 7,
   "id": "2d23dda5",
   "metadata": {},
   "outputs": [
    {
     "name": "stdout",
     "output_type": "stream",
     "text": [
      " We got Zero Division Error details are division by zero\n"
     ]
    }
   ],
   "source": [
    "# try except else\n",
    "\n",
    "try:\n",
    "    num=int(input(\"Enter a Number\"))\n",
    "    result = 10/num\n",
    "except ValueError as ve:\n",
    "    print(f\"You must enter a number {ve}\")\n",
    "except ZeroDivisionError as zd:\n",
    "    print(f' We got Zero Division Error details are {zd}')\n",
    "except Exception as ex:\n",
    "    print(f\"We got some other error {f}\")\n",
    "else:\n",
    "    print(f\"The result is {result}\")"
   ]
  },
  {
   "cell_type": "code",
   "execution_count": 8,
   "id": "9470bb76",
   "metadata": {},
   "outputs": [
    {
     "name": "stdout",
     "output_type": "stream",
     "text": [
      "The result is 10.0\n",
      "Execution is complete\n"
     ]
    }
   ],
   "source": [
    "# try except else and finally\n",
    "\n",
    "try:\n",
    "    num=int(input(\"Enter a Number\"))\n",
    "    result = 10/num\n",
    "except ValueError as ve:\n",
    "    print(f\"You must enter a number {ve}\")\n",
    "except ZeroDivisionError as zd:\n",
    "    print(f' We got Zero Division Error details are {zd}')\n",
    "except Exception as ex:\n",
    "    print(f\"We got some other error {f}\")\n",
    "else:\n",
    "    print(f\"The result is {result}\")\n",
    "finally:\n",
    "    print(\"Execution is complete\")"
   ]
  }
 ],
 "metadata": {
  "kernelspec": {
   "display_name": "Python 3",
   "language": "python",
   "name": "python3"
  },
  "language_info": {
   "codemirror_mode": {
    "name": "ipython",
    "version": 3
   },
   "file_extension": ".py",
   "mimetype": "text/x-python",
   "name": "python",
   "nbconvert_exporter": "python",
   "pygments_lexer": "ipython3",
   "version": "3.12.0"
  }
 },
 "nbformat": 4,
 "nbformat_minor": 5
}
