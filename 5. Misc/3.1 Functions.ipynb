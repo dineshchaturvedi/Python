{
 "cells": [
  {
   "cell_type": "code",
   "execution_count": 2,
   "id": "9c029a8b",
   "metadata": {},
   "outputs": [],
   "source": [
    "def even_or_odd (num):\n",
    "    \"\"\"This is functiona to return if the number if even of odd\"\"\"\n",
    "    if(num%2==0):\n",
    "        print(\"The number is even\")\n",
    "    else:\n",
    "        print(\"The number is odd\")\n"
   ]
  },
  {
   "cell_type": "code",
   "execution_count": 3,
   "id": "7dd7fd40",
   "metadata": {},
   "outputs": [
    {
     "name": "stdout",
     "output_type": "stream",
     "text": [
      "The number is odd\n"
     ]
    }
   ],
   "source": [
    "## Call the function we just created\n",
    "even_or_odd(21)"
   ]
  },
  {
   "cell_type": "code",
   "execution_count": 4,
   "id": "2977858b",
   "metadata": {},
   "outputs": [
    {
     "name": "stdout",
     "output_type": "stream",
     "text": [
      "5\n"
     ]
    }
   ],
   "source": [
    "## mutiple argument function with retuen\n",
    "\n",
    "def add (a,b):\n",
    "    return a+b\n",
    "\n",
    "result = add(2,3)\n",
    "\n",
    "print(result)"
   ]
  },
  {
   "cell_type": "code",
   "execution_count": 6,
   "id": "3876c693",
   "metadata": {},
   "outputs": [
    {
     "name": "stdout",
     "output_type": "stream",
     "text": [
      "Hello Guest Welcome to Paradise\n",
      "Hello Dinesh Welcome to Paradise\n"
     ]
    }
   ],
   "source": [
    "## Default Argument\n",
    "\n",
    "def greet(name=\"Guest\"):\n",
    "    print(f\"Hello {name} Welcome to Paradise\")\n",
    "\n",
    "greet() # dont pass value default is assumed\n",
    "greet(\"Dinesh\")"
   ]
  },
  {
   "cell_type": "code",
   "execution_count": 7,
   "id": "3d69fb7c",
   "metadata": {},
   "outputs": [
    {
     "name": "stdout",
     "output_type": "stream",
     "text": [
      "1\n",
      "2\n",
      "3\n",
      "Dinesh\n"
     ]
    }
   ],
   "source": [
    "## Multiple Arguments\n",
    "\n",
    "def print_number (*args): ## * Indicates multiple arguments\n",
    "    for a in args:\n",
    "        print (a)\n",
    "\n",
    "print_number(1,2,3,\"Dinesh\")"
   ]
  },
  {
   "cell_type": "code",
   "execution_count": 23,
   "id": "ae1639f9",
   "metadata": {},
   "outputs": [],
   "source": [
    "## Keywords Arguments\n",
    "\n",
    "def print_details(**kwargs): # ** incdicates keyword agruments\n",
    "    for key,value in kwargs.items():\n",
    "        print(f\"{key}:{value}\")\n",
    "\n"
   ]
  },
  {
   "cell_type": "code",
   "execution_count": 24,
   "id": "227d88e3",
   "metadata": {},
   "outputs": [
    {
     "name": "stdout",
     "output_type": "stream",
     "text": [
      "name:Dinesh\n",
      "Age:51\n"
     ]
    }
   ],
   "source": [
    "print_details(name=\"Dinesh\",Age=\"51\")"
   ]
  }
 ],
 "metadata": {
  "kernelspec": {
   "display_name": "Python 3",
   "language": "python",
   "name": "python3"
  },
  "language_info": {
   "codemirror_mode": {
    "name": "ipython",
    "version": 3
   },
   "file_extension": ".py",
   "mimetype": "text/x-python",
   "name": "python",
   "nbconvert_exporter": "python",
   "pygments_lexer": "ipython3",
   "version": "3.12.0"
  }
 },
 "nbformat": 4,
 "nbformat_minor": 5
}
