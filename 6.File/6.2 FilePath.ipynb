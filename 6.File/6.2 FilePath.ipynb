{
 "cells": [
  {
   "cell_type": "code",
   "execution_count": 2,
   "id": "8103f5c2",
   "metadata": {},
   "outputs": [
    {
     "name": "stdout",
     "output_type": "stream",
     "text": [
      "Current Working Directory is c:\\Users\\dines\\work\\python\\6.File\n"
     ]
    }
   ],
   "source": [
    "import os\n",
    "cwd = os.getcwd()\n",
    "print(f\"Current Working Directory is {cwd}\")"
   ]
  },
  {
   "cell_type": "code",
   "execution_count": null,
   "id": "588c443e",
   "metadata": {},
   "outputs": [],
   "source": [
    "new_package='package'\n",
    "os.mkdir(new_package)\n",
    "print(f'New Directory is created called {new_package}')"
   ]
  },
  {
   "cell_type": "code",
   "execution_count": null,
   "id": "df1c6863",
   "metadata": {},
   "outputs": [
    {
     "name": "stdout",
     "output_type": "stream",
     "text": [
      "['6.1. fileoperations.ipynb', '6.2 FilePath.ipynb', 'example.txt', 'package']\n"
     ]
    }
   ],
   "source": [
    "# Listing content of a directory\n",
    "items = os.listdir(\".\")\n",
    "print(items)"
   ]
  }
 ],
 "metadata": {
  "kernelspec": {
   "display_name": "Python 3",
   "language": "python",
   "name": "python3"
  },
  "language_info": {
   "codemirror_mode": {
    "name": "ipython",
    "version": 3
   },
   "file_extension": ".py",
   "mimetype": "text/x-python",
   "name": "python",
   "nbconvert_exporter": "python",
   "pygments_lexer": "ipython3",
   "version": "3.12.0"
  }
 },
 "nbformat": 4,
 "nbformat_minor": 5
}
