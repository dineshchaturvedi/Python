{
 "cells": [
  {
   "cell_type": "code",
   "execution_count": null,
   "id": "6d776f98",
   "metadata": {},
   "outputs": [
    {
     "name": "stdout",
     "output_type": "stream",
     "text": [
      "hello how are you\n",
      "dinesh is my name\n"
     ]
    }
   ],
   "source": [
    "## Read a whole file\n",
    "with open('../example.txt', 'r') as file:\n",
    "    content = file.read()\n",
    "    print(content)"
   ]
  },
  {
   "cell_type": "code",
   "execution_count": null,
   "id": "8658204e",
   "metadata": {},
   "outputs": [
    {
     "name": "stdout",
     "output_type": "stream",
     "text": [
      "hello how are you\n",
      "\n"
     ]
    }
   ],
   "source": [
    "## Read a whole file\n",
    "with open('../example.txt', 'r') as file:\n",
    "    for line in file:\n",
    "        print(line)\n",
    "        break # Added break stop at first line, wanted to check "
   ]
  },
  {
   "cell_type": "code",
   "execution_count": null,
   "id": "df892df2",
   "metadata": {},
   "outputs": [],
   "source": [
    "# Writing the file\n",
    "with open('../example.txt', 'w') as file:\n",
    "    file.write('Hello World \\n')"
   ]
  },
  {
   "cell_type": "code",
   "execution_count": null,
   "id": "8e1b3041",
   "metadata": {},
   "outputs": [],
   "source": [
    "# Writing the file without overwriting\n",
    "with open('../example.txt', 'a') as file: # append mode\n",
    "    file.write('Appending Text \\n')"
   ]
  },
  {
   "cell_type": "code",
   "execution_count": 7,
   "id": "d0334f7c",
   "metadata": {},
   "outputs": [],
   "source": [
    "# Writing the file with multiple line and without overwriting\n",
    "lines = ['First Line \\n', 'Second Line \\n', 'Third Line \\n']\n",
    "with open('../example.txt', 'a') as file: # append mode\n",
    "    file.writelines(lines)"
   ]
  }
 ],
 "metadata": {
  "kernelspec": {
   "display_name": "Python 3",
   "language": "python",
   "name": "python3"
  },
  "language_info": {
   "codemirror_mode": {
    "name": "ipython",
    "version": 3
   },
   "file_extension": ".py",
   "mimetype": "text/x-python",
   "name": "python",
   "nbconvert_exporter": "python",
   "pygments_lexer": "ipython3",
   "version": "3.12.0"
  }
 },
 "nbformat": 4,
 "nbformat_minor": 5
}
