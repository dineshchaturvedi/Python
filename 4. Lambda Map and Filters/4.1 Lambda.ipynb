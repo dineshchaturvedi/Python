{
 "cells": [
  {
   "cell_type": "code",
   "execution_count": 2,
   "id": "43b21afb",
   "metadata": {},
   "outputs": [
    {
     "data": {
      "text/plain": [
       "5"
      ]
     },
     "execution_count": 2,
     "metadata": {},
     "output_type": "execute_result"
    }
   ],
   "source": [
    "#\n",
    "def add (a,b):\n",
    "    return a+ b\n",
    "\n",
    "add(2,3)"
   ]
  },
  {
   "cell_type": "code",
   "execution_count": 5,
   "id": "e5b8b6db",
   "metadata": {},
   "outputs": [
    {
     "data": {
      "text/plain": [
       "5"
      ]
     },
     "execution_count": 5,
     "metadata": {},
     "output_type": "execute_result"
    }
   ],
   "source": [
    "# lambda version of the add function\n",
    "addlambda = lambda a,b:a+b\n",
    "\n",
    "addlambda(2,3)"
   ]
  },
  {
   "cell_type": "code",
   "execution_count": null,
   "id": "f3fa3aa4",
   "metadata": {},
   "outputs": [
    {
     "data": {
      "text/plain": [
       "[1, 4, 9, 16, 25]"
      ]
     },
     "execution_count": 5,
     "metadata": {},
     "output_type": "execute_result"
    }
   ],
   "source": [
    "##Map appllies a function to all items in the list\n",
    "Numbers = [1,2,3,4,5]\n",
    "def square (number):\n",
    "    return number**2\n",
    "\n",
    "square(4)\n",
    "\n",
    "list(map(lambda x:x**2 , Numbers)) # using map and list you did apply a function to each item in the list\n"
   ]
  }
 ],
 "metadata": {
  "kernelspec": {
   "display_name": "Python 3",
   "language": "python",
   "name": "python3"
  },
  "language_info": {
   "codemirror_mode": {
    "name": "ipython",
    "version": 3
   },
   "file_extension": ".py",
   "mimetype": "text/x-python",
   "name": "python",
   "nbconvert_exporter": "python",
   "pygments_lexer": "ipython3",
   "version": "3.12.0"
  }
 },
 "nbformat": 4,
 "nbformat_minor": 5
}
