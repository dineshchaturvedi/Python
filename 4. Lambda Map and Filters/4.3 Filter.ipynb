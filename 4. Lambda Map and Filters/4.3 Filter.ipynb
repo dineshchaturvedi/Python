{
 "cells": [
  {
   "cell_type": "code",
   "execution_count": null,
   "id": "06f042ac",
   "metadata": {},
   "outputs": [
    {
     "data": {
      "text/plain": [
       "[2, 4, 6, 8]"
      ]
     },
     "execution_count": 1,
     "metadata": {},
     "output_type": "execute_result"
    }
   ],
   "source": [
    "## Filter is use to filter out items from iterable based on a criteria\n",
    "lst = [1,2,3,4,5,6,7,8,9]\n",
    "\n",
    "list(filter(lambda x:x%2==0 ,lst))"
   ]
  },
  {
   "cell_type": "code",
   "execution_count": 8,
   "id": "929f8928",
   "metadata": {},
   "outputs": [
    {
     "data": {
      "text/plain": [
       "[6, 8]"
      ]
     },
     "execution_count": 8,
     "metadata": {},
     "output_type": "execute_result"
    }
   ],
   "source": [
    "# Filter with 2 condistions\n",
    "\n",
    "list(filter(lambda x:x>5 and x%2==0, lst))"
   ]
  }
 ],
 "metadata": {
  "kernelspec": {
   "display_name": "Python 3",
   "language": "python",
   "name": "python3"
  },
  "language_info": {
   "codemirror_mode": {
    "name": "ipython",
    "version": 3
   },
   "file_extension": ".py",
   "mimetype": "text/x-python",
   "name": "python",
   "nbconvert_exporter": "python",
   "pygments_lexer": "ipython3",
   "version": "3.12.0"
  }
 },
 "nbformat": 4,
 "nbformat_minor": 5
}
