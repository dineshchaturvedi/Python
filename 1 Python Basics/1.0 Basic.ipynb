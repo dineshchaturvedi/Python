{
 "cells": [
  {
   "cell_type": "markdown",
   "id": "8bbdab4a",
   "metadata": {},
   "source": []
  },
  {
   "cell_type": "code",
   "execution_count": null,
   "id": "e91e8ce5",
   "metadata": {},
   "outputs": [
    {
     "name": "stdout",
     "output_type": "stream",
     "text": [
      "Dinesh\n",
      "Chaturvedi\n"
     ]
    }
   ],
   "source": [
    "## Basic Syntax Rule in Python\n",
    "## This is single line comment\n",
    "'''\n",
    "This is multiline comment\n",
    "'''\n",
    "\n",
    "# Case Senstivity in Python, variable names are case sensitive\n",
    "name = \"Dinesh\"\n",
    "Name = \"Chaturvedi\"\n",
    "print(name)\n",
    "print(Name)"
   ]
  },
  {
   "cell_type": "code",
   "execution_count": 7,
   "id": "c8d0ce54",
   "metadata": {},
   "outputs": [
    {
     "name": "stdout",
     "output_type": "stream",
     "text": [
      "age less than 30\n"
     ]
    }
   ],
   "source": [
    "## Indentation in Python\n",
    "## Python uses Indentation to define blocks of code consistent use of space(4) or a tab\n",
    "age = 28\n",
    "if age>30:\n",
    "    print(age)\n",
    "else:\n",
    "    print(\"age less than 30\")\n"
   ]
  },
  {
   "cell_type": "code",
   "execution_count": 8,
   "id": "21b0b300",
   "metadata": {},
   "outputs": [
    {
     "name": "stdout",
     "output_type": "stream",
     "text": [
      "15\n"
     ]
    }
   ],
   "source": [
    "## Line Continuation\n",
    "total = 1+2+3 \\\n",
    "+4+5\n",
    "print(total)"
   ]
  },
  {
   "cell_type": "code",
   "execution_count": 12,
   "id": "33783825",
   "metadata": {},
   "outputs": [
    {
     "name": "stdout",
     "output_type": "stream",
     "text": [
      "15\n"
     ]
    }
   ],
   "source": [
    "## Multiple statements in a single line \n",
    "x=3;y=5;z=x*y\n",
    "print(z)"
   ]
  }
 ],
 "metadata": {
  "kernelspec": {
   "display_name": "Python 3",
   "language": "python",
   "name": "python3"
  },
  "language_info": {
   "codemirror_mode": {
    "name": "ipython",
    "version": 3
   },
   "file_extension": ".py",
   "mimetype": "text/x-python",
   "name": "python",
   "nbconvert_exporter": "python",
   "pygments_lexer": "ipython3",
   "version": "3.12.0"
  }
 },
 "nbformat": 4,
 "nbformat_minor": 5
}
