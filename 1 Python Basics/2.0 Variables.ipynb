{
 "cells": [
  {
   "cell_type": "code",
   "execution_count": null,
   "id": "cd06b43d",
   "metadata": {},
   "outputs": [],
   "source": [
    "## Declaring and Assigning Variables\n",
    "age=32\n",
    "height = 5.9\n",
    "name = \"Dinesh\"\n",
    "\n",
    "is_student = False\n",
    "print(\"age: \", age)\n",
    "print(\"height: \" , height)\n",
    "print(\"name: '\" , name )\n",
    "print(\"is strude: \" , is_student )"
   ]
  },
  {
   "cell_type": "code",
   "execution_count": null,
   "id": "2886efeb",
   "metadata": {},
   "outputs": [],
   "source": [
    "## Naming Convetions \n",
    "## Variable Name should be descriptive\n",
    "## Must start with Letter or Underscore\n",
    "## can contain letters, underscore and numbers\n",
    "## Is case sensitive"
   ]
  },
  {
   "cell_type": "code",
   "execution_count": 13,
   "id": "c8dbee8c",
   "metadata": {},
   "outputs": [
    {
     "name": "stdout",
     "output_type": "stream",
     "text": [
      "<class 'int'>\n",
      "<class 'str'>\n",
      "<class 'int'>\n"
     ]
    }
   ],
   "source": [
    "## Variables are Dynamically Typed\n",
    "## Type is deternmined at the runtime\n",
    "age = 25 # int\n",
    "height = 5.9 # float\n",
    "name = \"Dinesh\" # str\n",
    "is_student = False #bool\n",
    "\n",
    "print(type(age))\n",
    "#type conversion\n",
    "agestr  = str(age)\n",
    "print(type(agestr))\n",
    "\n",
    "#converting string to int also possible\n",
    "agestr  = \"50\"\n",
    "age = int(agestr)\n",
    "print(type(age))\n",
    "\n"
   ]
  },
  {
   "cell_type": "code",
   "execution_count": 16,
   "id": "c537ec13",
   "metadata": {},
   "outputs": [
    {
     "name": "stdout",
     "output_type": "stream",
     "text": [
      "<class 'str'>\n"
     ]
    }
   ],
   "source": [
    "age = input(\"What is the age\")\n",
    "print(type(age))"
   ]
  }
 ],
 "metadata": {
  "kernelspec": {
   "display_name": "Python 3",
   "language": "python",
   "name": "python3"
  },
  "language_info": {
   "codemirror_mode": {
    "name": "ipython",
    "version": 3
   },
   "file_extension": ".py",
   "mimetype": "text/x-python",
   "name": "python",
   "nbconvert_exporter": "python",
   "pygments_lexer": "ipython3",
   "version": "3.12.0"
  }
 },
 "nbformat": 4,
 "nbformat_minor": 5
}
