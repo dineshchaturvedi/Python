{
 "cells": [
  {
   "cell_type": "code",
   "execution_count": 8,
   "id": "a258ac51",
   "metadata": {},
   "outputs": [
    {
     "name": "stdout",
     "output_type": "stream",
     "text": [
      "['Dinesh', 'Nimmi', 'Anika', 'Arnav']\n",
      "Arnav\n",
      "Anika\n",
      "['Dinesh', 'Nimmi', 'Anika', 'Arnav']\n",
      "['Dinesh', 'Nimmi']\n"
     ]
    }
   ],
   "source": [
    "# Basic List\n",
    "name = [\"Dinesh\",\"Nimmi\",\"Anika\",\"Arnav\"]\n",
    "print(name)\n",
    "\n",
    "## Retrieving 3rd element of name\n",
    "print(name[3])\n",
    "\n",
    "## Retriving by position reverse\n",
    "print(name[-2])\n",
    "\n",
    "## print everything in 1 shot\n",
    "print(name[0:])\n",
    "# print upto a number\n",
    "print(name[0:2])\n",
    "\n"
   ]
  },
  {
   "cell_type": "code",
   "execution_count": 15,
   "id": "8518db6e",
   "metadata": {},
   "outputs": [
    {
     "name": "stdout",
     "output_type": "stream",
     "text": [
      "['Dinesh', 'Anika', 'Arnav', 'Bobby', 'Bobby', 'Bobby', 'Bobby', 'Bobby', 'Bobby', 'Bobby']\n",
      "['Dinesh', 'Anika', 'Arnav', 'Bobby', 'Bobby', 'Bobby', 'Bobby', 'Bobby', 'Bobby', 'Bobby']\n"
     ]
    }
   ],
   "source": [
    "## List Methods\n",
    "## Adding a name at the end\n",
    "name.append(\"Bobby\")\n",
    "print(name)\n",
    "\n",
    "## remove a name \n",
    "if \"Nimmi\" in name:\n",
    "   name.remove(\"Nimmi\")\n",
    "print(name)\n",
    "\n",
    "\n"
   ]
  },
  {
   "cell_type": "code",
   "execution_count": 29,
   "id": "66ddb1a2",
   "metadata": {},
   "outputs": [
    {
     "name": "stdout",
     "output_type": "stream",
     "text": [
      "['Dinesh', 'Anika', 'Nimmi', 'Arnav']\n",
      "2\n",
      "['Dinesh', 'Nimmi', 'Anika', 'Nimmi', 'Arnav']\n",
      "['Dinesh', 'Anika', 'Arnav']\n",
      "['Dinesh', 'Nimmi', 'Anika', 'Arnav']\n",
      "Count of Nimmi in list 1\n",
      "Lentgh of names list 4\n"
     ]
    }
   ],
   "source": [
    "# Reintializing the name because object is in memory gets modified with each execution\n",
    "name = [\"Dinesh\",\"Nimmi\",\"Anika\",\"Nimmi\",\"Arnav\"]\n",
    "name.remove (\"Nimmi\") # removes the last instance of the name\n",
    "print(name)\n",
    "#gets the index\n",
    "index = name.index(\"Nimmi\")\n",
    "print(index)\n",
    "\n",
    "# insert nimmi after Dinesh\n",
    "name.insert(1,\"Nimmi\")\n",
    "print(name)\n",
    "name.remove (\"Nimmi\") # removes the last instance of the name\n",
    "name.remove (\"Nimmi\") # removes the last instance of the name\n",
    "print(name)\n",
    "name.insert(1,\"Nimmi\")\n",
    "print(name)\n",
    "## Count number of occurances of nimmi\n",
    "print (f\"Count of Nimmi in list {name.count(\"Nimmi\")}\")\n",
    "## Count total number of elements\n",
    "print (f\"Lentgh of names list {len(name)}\")\n"
   ]
  },
  {
   "cell_type": "code",
   "execution_count": null,
   "id": "513409d0",
   "metadata": {},
   "outputs": [
    {
     "name": "stdout",
     "output_type": "stream",
     "text": [
      "[3, 4, 5]\n",
      "[3, 4, 5, 6, 7, 8, 9, 10]\n",
      "[1, 2, 3, 4, 5]\n",
      "[1, 3, 5, 7, 9]\n"
     ]
    }
   ],
   "source": [
    "## Slicing List\n",
    "numbers =[1,2,3,4,5,6,7,8,9,10]\n",
    "print(numbers[2:5])\n",
    "print(numbers[2:])\n",
    "print(numbers[:5])\n",
    "print(numbers[::2]) # skip one element at a time\n",
    "\n"
   ]
  },
  {
   "cell_type": "code",
   "execution_count": null,
   "id": "f00ddb00",
   "metadata": {},
   "outputs": [],
   "source": [
    "# Iterate the list\n",
    "\n",
    "for number in numbers:\n",
    "    print(number)\n",
    "## enumerate returns both index and value of the elenment at the same time\n",
    "for index, number in enumerate(numbers):\n",
    "    print(index, number)"
   ]
  },
  {
   "cell_type": "code",
   "execution_count": 37,
   "id": "a3d05e17",
   "metadata": {},
   "outputs": [
    {
     "name": "stdout",
     "output_type": "stream",
     "text": [
      "[0, 1, 4, 9, 16, 25, 36, 49, 64, 81]\n",
      "[0, 1, 4, 9, 16, 25, 36, 49, 64, 81]\n",
      "[0, 2, 4, 6, 8]\n"
     ]
    }
   ],
   "source": [
    "# List Comprehension\n",
    "\n",
    "lst =[]\n",
    "\n",
    "for i in range(10):\n",
    "    lst.append(i**2)\n",
    "print (lst)\n",
    "\n",
    "## Achieving the same result in list itself\n",
    "\n",
    "lst = [i**2 for i in range(10)]\n",
    "print (lst)\n",
    "\n",
    "even_numbers = [num for num in range(10) if num%2==0]\n",
    "print(even_numbers)"
   ]
  }
 ],
 "metadata": {
  "kernelspec": {
   "display_name": "Python 3",
   "language": "python",
   "name": "python3"
  },
  "language_info": {
   "codemirror_mode": {
    "name": "ipython",
    "version": 3
   },
   "file_extension": ".py",
   "mimetype": "text/x-python",
   "name": "python",
   "nbconvert_exporter": "python",
   "pygments_lexer": "ipython3",
   "version": "3.12.0"
  }
 },
 "nbformat": 4,
 "nbformat_minor": 5
}
