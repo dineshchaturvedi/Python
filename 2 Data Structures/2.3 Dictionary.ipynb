{
 "cells": [
  {
   "cell_type": "code",
   "execution_count": null,
   "id": "43b47aa4",
   "metadata": {},
   "outputs": [
    {
     "name": "stdout",
     "output_type": "stream",
     "text": [
      "{'name': 'Dinesh', 'Age': 51, 'Sex': 'M'}\n",
      "{'name': 'Arnav', 'Age': 51, 'Sex': 'M'}\n",
      "51\n",
      "51\n",
      "None\n",
      "Not Found\n"
     ]
    }
   ],
   "source": [
    "## Dictionaries are unordered collection of objects\n",
    "## They store data in Key Value Pairs\n",
    "empty_dict = {} ## sets are also created similarly but becuase python used doctionaries first, they will treat empty {} as dictionary type\n",
    "\n",
    "## first dictionary\n",
    "\n",
    "student ={\"name\":\"Dinesh\",\"Age\":51,\"Sex\":\"M\"}\n",
    "print(student)\n",
    "\n",
    "student ={\"name\":\"Dinesh\",\"Age\":51,\"Sex\":\"M\",\"name\":\"Arnav\"} ## Testing duplicate valuesm it retains last value, basically it thinks you are updating the value\n",
    "print(student)\n",
    "\n",
    "## Accessing Dictionary Elements by directly calling\n",
    "print(student['Age'])\n",
    "## Accessing Dictionary Elements by calling get nmethod\n",
    "print(student.get('Age'))\n",
    "print(student.get('last_name')) ## Returns none since it not exist\n",
    "print(student.get('last_name',\"Not Found\")) ## Return the value provided if not found\n",
    "\n"
   ]
  },
  {
   "cell_type": "code",
   "execution_count": 10,
   "id": "2736bf7c",
   "metadata": {},
   "outputs": [
    {
     "name": "stdout",
     "output_type": "stream",
     "text": [
      "{'name': 'Arnav', 'Age': 17, 'Sex': 'M', 'Address': '7019 Sherwoodd Dr'}\n",
      "{'name': 'Arnav', 'Age': 17, 'Sex': 'M', 'Address': '7019 Sherwoodd Dr'}\n"
     ]
    }
   ],
   "source": [
    "## Modifying Dictionary Elements\n",
    "## Dictionary are mutable, so you can modify\n",
    "\n",
    "student['Age'] = 17 ##updated the value\n",
    "print(student)\n",
    "student['Address'] = \"7019 Sherwoodd Dr\" ##updated the value\n",
    "print(student)"
   ]
  },
  {
   "cell_type": "code",
   "execution_count": 13,
   "id": "fc76ebcf",
   "metadata": {},
   "outputs": [
    {
     "name": "stdout",
     "output_type": "stream",
     "text": [
      "dict_keys(['name', 'Age', 'Sex', 'Address'])\n",
      "dict_values(['Arnav', 17, 'M', '7019 Sherwoodd Dr'])\n"
     ]
    }
   ],
   "source": [
    "## Getting keys\n",
    "print(student.keys())\n",
    "print(student.values())"
   ]
  },
  {
   "cell_type": "code",
   "execution_count": null,
   "id": "34f374af",
   "metadata": {},
   "outputs": [
    {
     "name": "stdout",
     "output_type": "stream",
     "text": [
      "{'name': 'Arnav', 'Age': 17, 'Sex': 'M', 'Address': '7019 Sherwoodd Dr'}\n",
      "{'name': 'Arnav', 'Age': 17, 'Sex': 'M', 'Address': '7019 Sherwoodd Dr'}\n",
      "{'name': 'Dinesh', 'Age': 17, 'Sex': 'M', 'Address': '7019 Sherwoodd Dr'}\n",
      "{'name': 'Dinesh', 'Age': 17, 'Sex': 'M', 'Address': '7019 Sherwoodd Dr'}\n",
      "{'name': 'Dinesh', 'Age': 17, 'Sex': 'M', 'Address': '7019 Sherwoodd Dr'}\n",
      "{'name': 'Dinesh', 'Age': 17, 'Sex': 'M', 'Address': '7019 Sherwoodd Dr'}\n",
      "{'name': 'Arnav', 'Age': 17, 'Sex': 'M', 'Address': '7019 Sherwoodd Dr'}\n",
      "{'name': 'Dinesh', 'Age': 17, 'Sex': 'M', 'Address': '7019 Sherwoodd Dr'}\n"
     ]
    }
   ],
   "source": [
    "## Shallow Copy\n",
    "student_copy = student ## copy happening by reference if you change student, copy will change\n",
    "print(student)\n",
    "print(student_copy)\n",
    "\n",
    "student[\"name\"] = \"Dinesh\"\n",
    "print(student)\n",
    "print(student_copy)\n",
    "\n",
    "student_copy1 = student.copy() ## copy happening by value if you change student, copy will not change\n",
    "print(student)\n",
    "print(student_copy1)\n",
    "student[\"name\"] = \"Arnav\"\n",
    "print(student)\n",
    "print(student_copy1)\n"
   ]
  },
  {
   "cell_type": "code",
   "execution_count": 21,
   "id": "beb08544",
   "metadata": {},
   "outputs": [
    {
     "name": "stdout",
     "output_type": "stream",
     "text": [
      "name\n",
      "Age\n",
      "Sex\n",
      "Address\n",
      "Arnav\n",
      "17\n",
      "M\n",
      "7019 Sherwoodd Dr\n"
     ]
    }
   ],
   "source": [
    "## Iterating over dictionary\n",
    "for key in student.keys():\n",
    "    print(key)\n",
    "for value in student.values():\n",
    "    print(value)\n"
   ]
  },
  {
   "cell_type": "code",
   "execution_count": null,
   "id": "c8f4e51d",
   "metadata": {},
   "outputs": [
    {
     "name": "stdout",
     "output_type": "stream",
     "text": [
      "51\n"
     ]
    }
   ],
   "source": [
    "## Nested Dictionry\n",
    "student = {\n",
    "    \"student1\":{\"name\":\"Dinesh\",\"Age\":51,\"Sex\":\"M\"},\n",
    "    \"student2\":{\"name\":\"Arnav\",\"Age\":21,\"Sex\":\"M\"}\n",
    "}\n",
    "print(student[\"student1\"]['Age'])"
   ]
  },
  {
   "cell_type": "code",
   "execution_count": null,
   "id": "e80e458b",
   "metadata": {},
   "outputs": [],
   "source": []
  }
 ],
 "metadata": {
  "kernelspec": {
   "display_name": "Python 3",
   "language": "python",
   "name": "python3"
  },
  "language_info": {
   "codemirror_mode": {
    "name": "ipython",
    "version": 3
   },
   "file_extension": ".py",
   "mimetype": "text/x-python",
   "name": "python",
   "nbconvert_exporter": "python",
   "pygments_lexer": "ipython3",
   "version": "3.12.0"
  }
 },
 "nbformat": 4,
 "nbformat_minor": 5
}
