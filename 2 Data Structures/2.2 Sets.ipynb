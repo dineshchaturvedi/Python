{
 "cells": [
  {
   "cell_type": "code",
   "execution_count": 4,
   "id": "e3bf95c0",
   "metadata": {},
   "outputs": [
    {
     "name": "stdout",
     "output_type": "stream",
     "text": [
      "[1, 2, 3, 4, 5, 2, 3]\n",
      "<class 'list'>\n"
     ]
    }
   ],
   "source": [
    "## Sets are having unique items\n",
    "## They are unordered\n",
    "\n",
    "## Create a set\n",
    "lst = []\n",
    "\n",
    "my_set = [1,2,3,4,5,2,3] ## ignore duplicates\n",
    "print(my_set)\n",
    "\n",
    "print(type(my_set))\n",
    "\n"
   ]
  },
  {
   "cell_type": "code",
   "execution_count": null,
   "id": "58a633b2",
   "metadata": {},
   "outputs": [
    {
     "name": "stdout",
     "output_type": "stream",
     "text": [
      "{1, 2, 3, 4, 5, 6}\n"
     ]
    }
   ],
   "source": [
    "## Basic set of operation\n",
    "\n",
    "my_set=set([1,2,3,4,5,2,3]) ## ignore duplicates\n",
    "my_set.add(6)\n",
    "print(my_set)\n"
   ]
  },
  {
   "cell_type": "code",
   "execution_count": null,
   "id": "fd5c2ad5",
   "metadata": {},
   "outputs": [
    {
     "name": "stdout",
     "output_type": "stream",
     "text": [
      "{1, 2, 3, 5}\n",
      "{1, 2, 3, 5, 7, 8, 9}\n"
     ]
    }
   ],
   "source": [
    "set1 = {1,2,3,4,5,6}\n",
    "set2 ={6,7,8,9,4}\n",
    "\n",
    "print(set1.difference(set2)) ## Prints difference between two sets\n",
    "\n",
    "print(set1.symmetric_difference(set2)) ## duplicate elements ignore between sets"
   ]
  }
 ],
 "metadata": {
  "kernelspec": {
   "display_name": "Python 3",
   "language": "python",
   "name": "python3"
  },
  "language_info": {
   "codemirror_mode": {
    "name": "ipython",
    "version": 3
   },
   "file_extension": ".py",
   "mimetype": "text/x-python",
   "name": "python",
   "nbconvert_exporter": "python",
   "pygments_lexer": "ipython3",
   "version": "3.12.0"
  }
 },
 "nbformat": 4,
 "nbformat_minor": 5
}
